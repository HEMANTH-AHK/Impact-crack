import pandas as pd
import matplotlib.pyplot as plt
from sklearn.model_selection import train_test_split
from sklearn.preprocessing import StandardScaler
from sklearn.metrics import confusion_matrix, ConfusionMatrixDisplay
from sklearn.ensemble import RandomForestClassifier, GradientBoostingClassifier, AdaBoostClassifier
from sklearn.neighbors import KNeighborsClassifier
from sklearn.svm import SVC
from sklearn.neural_network import MLPClassifier

# ---------- Load your dataset ----------
# Recreate your cleaned dataset manually or load it from CSV
# For example:
# df = pd.read_csv("pafc_dataset.csv")

# Example structure for demonstration:
data = {
    'GO (%)': [0, 0, 0.1, 0.1, 0.2, 0.2, 0.15, 0.15]*8,
    'SF (%)': [0]*4 + [3]*4 + [0]*4 + [3]*4 + [0]*4 + [3]*4 + [0]*4 + [3]*4,
    'SWM (mm)': [0, 50, 100, 150]*16,
    'D2': [5, 8, 10, 12, 90, 95, 100, 105, 4, 6, 8, 9, 100, 110, 120, 130,
           3, 5, 6, 8, 120, 130, 140, 150, 4, 7, 10, 12, 125, 135, 145, 155]
}
df = pd.DataFrame(data)

# ---------- Convert D2 to classes ----------
def classify_d2(d2):
    if d2 <= 50:
        return 'Low'
    elif d2 <= 120:
        return 'Medium'
    else:
        return 'High'

df['D2_Class'] = df['D2'].apply(classify_d2)

# ---------- Split dataset ----------
X = df[['GO (%)', 'SF (%)', 'SWM (mm)']]
y = df['D2_Class']
X_train, X_test, y_train, y_test = train_test_split(X, y, stratify=y, test_size=0.25, random_state=42)

# ---------- Normalize ----------
scaler = StandardScaler()
X_train_scaled = scaler.fit_transform(X_train)
X_test_scaled = scaler.transform(X_test)

# ---------- Define Models ----------
models = {
    "KNN": KNeighborsClassifier(),
    "RF": RandomForestClassifier(random_state=42),
    "SVM": SVC(probability=True),
    "GBC": GradientBoostingClassifier(random_state=42),
    "AdaBoost": AdaBoostClassifier(random_state=42),
    "ANN": MLPClassifier(hidden_layer_sizes=(30, 20), max_iter=1000, random_state=42)
}

# ---------- Train, Predict & Plot Confusion Matrices ----------
for i, (name, model) in enumerate(models.items(), start=1):
    model.fit(X_train_scaled, y_train)
    y_pred = model.predict(X_test_scaled)
    
    cm = confusion_matrix(y_test, y_pred, labels=['Low', 'Medium', 'High'])
    disp = ConfusionMatrixDisplay(confusion_matrix=cm, display_labels=['Low', 'Medium', 'High'])
    
    plt.figure(figsize=(5, 4))
    disp.plot(cmap='Blues')
    plt.title(f'({chr(96+i)}) {name} - Confusion Matrix')
    plt.grid(False)
    plt.show()
